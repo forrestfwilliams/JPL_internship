{
 "cells": [
  {
   "cell_type": "markdown",
   "id": "bb327b9c-8e23-448b-95a9-d7efc09c4b3c",
   "metadata": {},
   "source": [
    "# Miscellaneous Useful Code"
   ]
  },
  {
   "cell_type": "markdown",
   "id": "2a1961e2-41ed-43cb-84ab-464dc44bf597",
   "metadata": {},
   "source": [
    "## Set up persistent Jupyter Lab instance on sar.jpl.nasa.gov"
   ]
  },
  {
   "cell_type": "code",
   "execution_count": null,
   "id": "7d000b71-66ff-4c2c-87b5-d97ba5dfa341",
   "metadata": {},
   "outputs": [],
   "source": [
    "%%sh\n",
    "\n",
    "# On local machine\n",
    "nslookup sar.jpl.nasa.gov\n",
    "ssh this.ip.address\n",
    "\n",
    "# On sar sever\n",
    "cd $WORKING\n",
    "tmux\n",
    "jupyter lab --no-browser --port=2515\n",
    "\n",
    "# Now we have a Jupyter Lab instance running that will persist if our SSH connection drops\n",
    "# To re-enter the Jupyter Lab instance after a disconnection, use tmux attach\n",
    "\n",
    "# On local machine\n",
    "ssh -CNL localhost:2515:localhost:2515 fwilliam@137.78.249.109\n",
    "\n",
    "# finally, in browser navigate to localhost:2515"
   ]
  },
  {
   "cell_type": "markdown",
   "id": "a3369b4c-f255-4dfa-9524-7e9928ac2389",
   "metadata": {},
   "source": [
    "## Write stdout and stderr to console and file"
   ]
  },
  {
   "cell_type": "code",
   "execution_count": null,
   "id": "0a45149b-448f-4691-84e3-705efab5b76e",
   "metadata": {},
   "outputs": [],
   "source": [
    "!python timing.py |& tee -i log_file.txt"
   ]
  },
  {
   "cell_type": "markdown",
   "id": "5fdb7c07-8b41-4f92-9cfa-9f18c923d18f",
   "metadata": {},
   "source": [
    "To recover output cells:"
   ]
  },
  {
   "cell_type": "code",
   "execution_count": null,
   "id": "ec10b694-27c1-4429-b30e-81ce36354f08",
   "metadata": {},
   "outputs": [],
   "source": [
    "cat log_file.txt"
   ]
  },
  {
   "cell_type": "markdown",
   "id": "2b5ffc19-2ef0-4a53-bb42-e66a44c5436f",
   "metadata": {},
   "source": [
    "## Compare extents of SLC files to DEM"
   ]
  },
  {
   "cell_type": "code",
   "execution_count": 2,
   "id": "9a0318ee-c173-46b1-9103-99f99aea8afe",
   "metadata": {},
   "outputs": [
    {
     "name": "stdout",
     "output_type": "stream",
     "text": [
      "/u/sar-r2/fwilliam/Calif/UAVSAR/Stacks/Haywrd_05502_01-S1\n"
     ]
    }
   ],
   "source": [
    "cd /u/sar-r2/fwilliam/Calif/UAVSAR/Stacks/Haywrd_05502_01-S1"
   ]
  },
  {
   "cell_type": "code",
   "execution_count": 3,
   "id": "a7bbcb1c-fec7-42ef-ae9f-5be09cfb5110",
   "metadata": {},
   "outputs": [],
   "source": [
    "%matplotlib inline\n",
    "from osgeo import gdal,ogr,osr\n",
    "import matplotlib.pyplot as plt"
   ]
  },
  {
   "cell_type": "code",
   "execution_count": 4,
   "id": "02a29537-b9e8-4712-81e2-7a42adc33d4b",
   "metadata": {},
   "outputs": [],
   "source": [
    "def GetExtent(ds):\n",
    "    \"\"\" Return list of corner coordinates from a gdal Dataset \"\"\"\n",
    "    xmin, xpixel, _, ymax, _, ypixel = ds.GetGeoTransform()\n",
    "    width, height = ds.RasterXSize, ds.RasterYSize\n",
    "    xmax = xmin + width * xpixel\n",
    "    ymin = ymax + height * ypixel\n",
    "\n",
    "    return [(xmin, ymax), (xmax, ymax), (xmax, ymin), (xmin, ymin)]"
   ]
  },
  {
   "cell_type": "code",
   "execution_count": 5,
   "id": "c21b5d0c-bcb1-45bb-b25b-243355a5e98d",
   "metadata": {},
   "outputs": [
    {
     "data": {
      "image/png": "[encoded data removed]",
      "text/plain": [
       "<Figure size 432x288 with 1 Axes>"
      ]
     },
     "metadata": {
      "needs_background": "light"
     },
     "output_type": "display_data"
    }
   ],
   "source": [
    "# get dem extent from gdal\n",
    "raster='dem/BayArea_USGS_13.dem.wgs84'\n",
    "ds=gdal.Open(raster)\n",
    "dem_ext=GetExtent(ds)\n",
    "dem_ext.append(dem_ext[0])\n",
    "demx, demy = zip(*dem_ext)\n",
    "\n",
    "# get slc extent from .ann files\n",
    "slc_ext = [[37.250137329, -122.164855957],[37.453689575, -121.792434692],[37.608684540, -121.938209534],[37.403179169, -122.309753418],[37.250137329, -122.164855957]]\n",
    "slcy, slcx = zip(*slc_ext)\n",
    "\n",
    "# plot the data\n",
    "fig = plt.figure()\n",
    "ax = fig.add_subplot(1, 1, 1)\n",
    "ax.plot(demx, demy, color='blue')\n",
    "ax.plot(slcx, slcy, color='orange')\n",
    "ax.set_xlim([-120, -124])\n",
    "ax.set_ylim([35, 40])\n",
    "ax.invert_yaxis()\n",
    "plt.show()"
   ]
  },
  {
   "cell_type": "markdown",
   "id": "bf6024a0-626a-45d5-a8b3-33a11151bb35",
   "metadata": {},
   "source": [
    "Looks good!"
   ]
  },
  {
   "cell_type": "code",
   "execution_count": null,
   "id": "5a1b22b3-b73f-4a2c-92c7-d26646543757",
   "metadata": {},
   "outputs": [],
   "source": []
  }
 ],
 "metadata": {
  "kernelspec": {
   "display_name": "Python 3",
   "language": "python",
   "name": "python3"
  },
  "language_info": {
   "codemirror_mode": {
    "name": "ipython",
    "version": 3
   },
   "file_extension": ".py",
   "mimetype": "text/x-python",
   "name": "python",
   "nbconvert_exporter": "python",
   "pygments_lexer": "ipython3",
   "version": "3.6.13"
  }
 },
 "nbformat": 4,
 "nbformat_minor": 5
}
