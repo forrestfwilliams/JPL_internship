{
 "cells": [
  {
   "cell_type": "markdown",
   "id": "2914e0e6-c94f-4770-92ed-e3879aa2e054",
   "metadata": {},
   "source": [
    "## Setup"
   ]
  },
  {
   "cell_type": "code",
   "execution_count": null,
   "id": "c7b58ac4-a311-45d1-87f5-e24dd0ef1b01",
   "metadata": {},
   "outputs": [],
   "source": [
    "cd /u/sar-r2/fwilliam/Calif/UAVSAR/Stacks/Haywrd_05502_01-S1"
   ]
  },
  {
   "cell_type": "markdown",
   "id": "d9072f62-36fc-4cf9-8d3f-60f3778ad0e5",
   "metadata": {},
   "source": [
    "## Download UAVSAR SLC files"
   ]
  },
  {
   "cell_type": "code",
   "execution_count": null,
   "id": "a4885086-bae6-41f9-9284-054ba5f34f12",
   "metadata": {},
   "outputs": [],
   "source": [
    "# !man wget\n",
    "!wget -i UAVSAR_landslides/Haywrd_05502_01.txt --user=forrest --password=############"
   ]
  },
  {
   "cell_type": "code",
   "execution_count": null,
   "id": "ec9507de-9a41-4cfb-b951-9e7156b828d6",
   "metadata": {},
   "outputs": [],
   "source": []
  }
 ],
 "metadata": {
  "kernelspec": {
   "display_name": "Python 3 (ipykernel)",
   "language": "python",
   "name": "python3"
  },
  "language_info": {
   "codemirror_mode": {
    "name": "ipython",
    "version": 3
   },
   "file_extension": ".py",
   "mimetype": "text/x-python",
   "name": "python",
   "nbconvert_exporter": "python",
   "pygments_lexer": "ipython3",
   "version": "3.8.10"
  }
 },
 "nbformat": 4,
 "nbformat_minor": 5
}
