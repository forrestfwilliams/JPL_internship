{
 "cells": [
  {
   "cell_type": "code",
   "execution_count": 58,
   "id": "3dec6700-70fa-455d-9f34-9c980768c268",
   "metadata": {},
   "outputs": [],
   "source": [
    "%matplotlib inline\n",
    "from osgeo import gdal\n",
    "import matplotlib.pyplot as plt\n",
    "import numpy as np\n",
    "import os\n",
    "import glob\n",
    "\n",
    "gdal.UseExceptions()\n",
    "\n",
    "#Utility function to load data\n",
    "def loadData(infile, band=1):\n",
    "    ds = gdal.Open(infile, gdal.GA_ReadOnly)\n",
    "    #Data array\n",
    "    data = ds.GetRasterBand(band).ReadAsArray()\n",
    "    #Map extent\n",
    "    trans = ds.GetGeoTransform()\n",
    "    xsize = ds.RasterXSize\n",
    "    ysize = ds.RasterYSize\n",
    "    extent = [trans[0], trans[0] + xsize * trans[1],\n",
    "            trans[3] + ysize*trans[5], trans[3]]\n",
    "    \n",
    "    ds = None\n",
    "    return data, extent"
   ]
  },
  {
   "cell_type": "code",
   "execution_count": 81,
   "id": "6e87f855-fb67-47e9-bebb-4aea63210716",
   "metadata": {},
   "outputs": [],
   "source": [
    "wd = '/u/sar-r2/fwilliam/Calif/UAVSAR/Stacks/Haywrd_05502_01'\n",
    "s2 = '/u/sar-r2/fwilliam/Calif/UAVSAR/Stacks/Haywrd_05502_01-S2'\n",
    "s1 = '/u/sar-r2/fwilliam/Calif/UAVSAR/Stacks/Haywrd_05502_01-S1'\n",
    "\n",
    "suffix = 'mintpy/geo'\n",
    "segments = [s1,s2]\n",
    "dsets = ['geo_velocity.h5','geo_temporalCoherence.h5']"
   ]
  },
  {
   "cell_type": "code",
   "execution_count": 78,
   "id": "0a64e50b-c7cc-4443-91f5-c4f6a43a9e7c",
   "metadata": {},
   "outputs": [
    {
     "data": {
      "text/plain": [
       "'/u/sar-r2/fwilliam/Calif/UAVSAR/Stacks'"
      ]
     },
     "execution_count": 78,
     "metadata": {},
     "output_type": "execute_result"
    }
   ],
   "source": [
    "pwd"
   ]
  },
  {
   "cell_type": "code",
   "execution_count": 70,
   "id": "b199c9f9-d5d3-4e5d-bbca-84b7686b1285",
   "metadata": {},
   "outputs": [],
   "source": [
    "!mkdir $wd"
   ]
  },
  {
   "cell_type": "code",
   "execution_count": 84,
   "id": "de416bec-a541-4c86-9f82-a9be248b5104",
   "metadata": {},
   "outputs": [
    {
     "name": "stdout",
     "output_type": "stream",
     "text": [
      "/u/sar-r2/fwilliam/Calif/UAVSAR/Stacks/Haywrd_05502_01\n"
     ]
    }
   ],
   "source": [
    "cd $wd"
   ]
  },
  {
   "cell_type": "code",
   "execution_count": 85,
   "id": "72d1bf33-862e-4150-9c4e-a4e8c6e29ba0",
   "metadata": {},
   "outputs": [
    {
     "data": {
      "text/plain": [
       "'/u/sar-r2/fwilliam/Calif/UAVSAR/Stacks/Haywrd_05502_01'"
      ]
     },
     "execution_count": 85,
     "metadata": {},
     "output_type": "execute_result"
    }
   ],
   "source": [
    "pwd"
   ]
  },
  {
   "cell_type": "code",
   "execution_count": 35,
   "id": "ca10d018-b634-49fc-8726-8b06ee48c444",
   "metadata": {},
   "outputs": [
    {
     "name": "stdout",
     "output_type": "stream",
     "text": [
      "read metadata from file: /u/sar-r2/fwilliam/Calif/UAVSAR/Stacks/Haywrd_05502_01-S1/mintpy/geo/geo_velocity.h5\n",
      "read data     from file: /u/sar-r2/fwilliam/Calif/UAVSAR/Stacks/Haywrd_05502_01-S1/mintpy/geo/geo_velocity.h5\n",
      "initiate GDAL driver: GeoTIFF\n",
      "create raster band\n",
      "raster row / column number: 8333, 4892\n",
      "raster transform info: (-122.30984445672122, 0.00010578355962721709, 0, 37.60865271806831, 0, -4.3168070221313536e-05)\n",
      "write data to raster band\n",
      "set projectection as: EPSG 4326\n",
      "finished writing to /u/sar-r2/fwilliam/Calif/UAVSAR/Stacks/Haywrd_05502_01/Haywrd_05502_01-S1_velocity.tif\n",
      "read metadata from file: /u/sar-r2/fwilliam/Calif/UAVSAR/Stacks/Haywrd_05502_01-S1/mintpy/geo/geo_temporalCoherence.h5\n",
      "read data     from file: /u/sar-r2/fwilliam/Calif/UAVSAR/Stacks/Haywrd_05502_01-S1/mintpy/geo/geo_temporalCoherence.h5\n",
      "initiate GDAL driver: GeoTIFF\n",
      "create raster band\n",
      "raster row / column number: 8333, 4892\n",
      "raster transform info: (-122.30984445672122, 0.00010578355962721709, 0, 37.60865271806831, 0, -4.3168070221313536e-05)\n",
      "write data to raster band\n",
      "set projectection as: EPSG 4326\n",
      "finished writing to /u/sar-r2/fwilliam/Calif/UAVSAR/Stacks/Haywrd_05502_01/Haywrd_05502_01-S1_temporalCoherence.tif\n",
      "read metadata from file: /u/sar-r2/fwilliam/Calif/UAVSAR/Stacks/Haywrd_05502_01-S2/mintpy/geo/geo_velocity.h5\n",
      "read data     from file: /u/sar-r2/fwilliam/Calif/UAVSAR/Stacks/Haywrd_05502_01-S2/mintpy/geo/geo_velocity.h5\n",
      "initiate GDAL driver: GeoTIFF\n",
      "create raster band\n",
      "raster row / column number: 8333, 4892\n",
      "raster transform info: (-121.93809511149205, 0.00010684896066276069, 0, 37.81271990319598, 0, -4.307787634693426e-05)\n",
      "write data to raster band\n",
      "set projectection as: EPSG 4326\n",
      "finished writing to /u/sar-r2/fwilliam/Calif/UAVSAR/Stacks/Haywrd_05502_01/Haywrd_05502_01-S2_velocity.tif\n",
      "read metadata from file: /u/sar-r2/fwilliam/Calif/UAVSAR/Stacks/Haywrd_05502_01-S2/mintpy/geo/geo_temporalCoherence.h5\n",
      "read data     from file: /u/sar-r2/fwilliam/Calif/UAVSAR/Stacks/Haywrd_05502_01-S2/mintpy/geo/geo_temporalCoherence.h5\n",
      "initiate GDAL driver: GeoTIFF\n",
      "create raster band\n",
      "raster row / column number: 8333, 4892\n",
      "raster transform info: (-121.93809511149205, 0.00010684896066276069, 0, 37.81271990319598, 0, -4.307787634693426e-05)\n",
      "write data to raster band\n",
      "set projectection as: EPSG 4326\n",
      "finished writing to /u/sar-r2/fwilliam/Calif/UAVSAR/Stacks/Haywrd_05502_01/Haywrd_05502_01-S2_temporalCoherence.tif\n"
     ]
    }
   ],
   "source": [
    "for s in segments:\n",
    "    for d in dsets:\n",
    "        infile = os.path.join(s,suffix,d)\n",
    "        outfile = os.path.join(wd,f'{os.path.basename(s)}_{d[4:-3]}.tif')\n",
    "        !save_gdal.py $infile -o $outfile"
   ]
  },
  {
   "cell_type": "code",
   "execution_count": 92,
   "id": "5887035d-b806-4dcb-b012-46fedc3a07b0",
   "metadata": {},
   "outputs": [
    {
     "name": "stdout",
     "output_type": "stream",
     "text": [
      "files to be stitched:\n",
      "\t/u/sar-r2/fwilliam/Calif/UAVSAR/Stacks/Haywrd_05502_01-S1/mintpy/geo/geo_velocity.h5\n",
      "\t/u/sar-r2/fwilliam/Calif/UAVSAR/Stacks/Haywrd_05502_01-S2/mintpy/geo/geo_velocity.h5\n",
      "read data from file: /u/sar-r2/fwilliam/Calif/UAVSAR/Stacks/Haywrd_05502_01-S1/mintpy/geo/geo_velocity.h5\n",
      "--------------------------------------------------\n",
      "read data from file: /u/sar-r2/fwilliam/Calif/UAVSAR/Stacks/Haywrd_05502_01-S2/mintpy/geo/geo_velocity.h5\n",
      "stitching ...\n",
      "file 1: X_STEP - 0.00010578355962721709, Y_STEP - -4.3168070221313536e-05\n",
      "file 2: X_STEP - 0.00010684896066276069, Y_STEP - -4.307787634693426e-05\n",
      "rescale the 2nd matrix into the same spatial resolution as the 1st one ...\n",
      "grab corners of input matrices\n",
      "calculate corners of output matrix\n",
      "estimate difference in the overlaping area\n",
      "average offset between two matrices in the common area: -0.00022676902863552013\n",
      "offset all pixel values in the 2nd matrix by -0.00022676902863552013 \n",
      "create output metadata and matrix in shape of (13061, 8456)\n",
      "plot stitching & shifting result ...\n",
      "save figure to file: /u/sar-r2/fwilliam/Calif/UAVSAR/Stacks/Haywrd_05502_01/velocity__12.png\n",
      "showing ...\n",
      "Figure(1500x800)\n",
      "--------------------------------------------------\n",
      "create HDF5 file: /u/sar-r2/fwilliam/Calif/UAVSAR/Stacks/Haywrd_05502_01/velocity.h5 with w mode\n",
      "create dataset /velocity of float32    in size of (13061, 8456)        with compression=None\n",
      "finished writing to /u/sar-r2/fwilliam/Calif/UAVSAR/Stacks/Haywrd_05502_01/velocity.h5\n",
      "read metadata from file: /u/sar-r2/fwilliam/Calif/UAVSAR/Stacks/Haywrd_05502_01/velocity.h5\n",
      "read data     from file: /u/sar-r2/fwilliam/Calif/UAVSAR/Stacks/Haywrd_05502_01/velocity.h5\n",
      "initiate GDAL driver: GeoTIFF\n",
      "create raster band\n",
      "raster row / column number: 13061, 8456\n",
      "raster transform info: (-122.30984445672122, 0.00010578355962721709, 0, 37.81271990319598, 0, -4.3168070221313536e-05)\n",
      "write data to raster band\n",
      "set projectection as: EPSG 4326\n",
      "finished writing to /u/sar-r2/fwilliam/Calif/UAVSAR/Stacks/Haywrd_05502_01/velocity.tif\n",
      "files to be stitched:\n",
      "\t/u/sar-r2/fwilliam/Calif/UAVSAR/Stacks/Haywrd_05502_01-S1/mintpy/geo/geo_temporalCoherence.h5\n",
      "\t/u/sar-r2/fwilliam/Calif/UAVSAR/Stacks/Haywrd_05502_01-S2/mintpy/geo/geo_temporalCoherence.h5\n",
      "read data from file: /u/sar-r2/fwilliam/Calif/UAVSAR/Stacks/Haywrd_05502_01-S1/mintpy/geo/geo_temporalCoherence.h5\n",
      "--------------------------------------------------\n",
      "read data from file: /u/sar-r2/fwilliam/Calif/UAVSAR/Stacks/Haywrd_05502_01-S2/mintpy/geo/geo_temporalCoherence.h5\n",
      "stitching ...\n",
      "file 1: X_STEP - 0.00010578355962721709, Y_STEP - -4.3168070221313536e-05\n",
      "file 2: X_STEP - 0.00010684896066276069, Y_STEP - -4.307787634693426e-05\n",
      "rescale the 2nd matrix into the same spatial resolution as the 1st one ...\n",
      "grab corners of input matrices\n",
      "calculate corners of output matrix\n",
      "estimate difference in the overlaping area\n",
      "average offset between two matrices in the common area: 0.1277073015944481\n",
      "offset all pixel values in the 2nd matrix by 0.1277073015944481 \n",
      "create output metadata and matrix in shape of (13061, 8456)\n",
      "plot stitching & shifting result ...\n",
      "save figure to file: /u/sar-r2/fwilliam/Calif/UAVSAR/Stacks/Haywrd_05502_01/temporalCoherence__12.png\n",
      "showing ...\n",
      "Figure(1500x800)\n",
      "--------------------------------------------------\n",
      "create HDF5 file: /u/sar-r2/fwilliam/Calif/UAVSAR/Stacks/Haywrd_05502_01/temporalCoherence.h5 with w mode\n",
      "create dataset /temporalCoherence of float32    in size of (13061, 8456)        with compression=None\n",
      "finished writing to /u/sar-r2/fwilliam/Calif/UAVSAR/Stacks/Haywrd_05502_01/temporalCoherence.h5\n",
      "read metadata from file: /u/sar-r2/fwilliam/Calif/UAVSAR/Stacks/Haywrd_05502_01/temporalCoherence.h5\n",
      "read data     from file: /u/sar-r2/fwilliam/Calif/UAVSAR/Stacks/Haywrd_05502_01/temporalCoherence.h5\n",
      "initiate GDAL driver: GeoTIFF\n",
      "create raster band\n",
      "raster row / column number: 13061, 8456\n",
      "raster transform info: (-122.30984445672122, 0.00010578355962721709, 0, 37.81271990319598, 0, -4.3168070221313536e-05)\n",
      "write data to raster band\n",
      "set projectection as: EPSG 4326\n",
      "finished writing to /u/sar-r2/fwilliam/Calif/UAVSAR/Stacks/Haywrd_05502_01/temporalCoherence.tif\n"
     ]
    }
   ],
   "source": [
    "for d in dsets:\n",
    "    s1file = os.path.join(s1,suffix,d)\n",
    "    s2file = os.path.join(s2,suffix,d)\n",
    "    outh5 = os.path.join(wd,d[4:])\n",
    "    outtif = os.path.join(wd,f'{d[4:-2]}tif')\n",
    "    !image_stitch.py $s1file $s2file -o $outh5\n",
    "    !save_gdal.py $outh5 -o $outtif"
   ]
  },
  {
   "cell_type": "code",
   "execution_count": 59,
   "id": "775f731d-c169-4275-9d8a-47bc54798eb0",
   "metadata": {},
   "outputs": [
    {
     "name": "stdout",
     "output_type": "stream",
     "text": [
      "Haywrd_05502_01-S1_temporalCoherence.tif  Haywrd_05502_01-S2_velocity.tif\n",
      "Haywrd_05502_01-S1_velocity.tif\t\t  temporalCoherence.tif\n",
      "Haywrd_05502_01-S2_temporalCoherence.tif  velocity.tif\n"
     ]
    }
   ],
   "source": [
    "!ls $wd"
   ]
  },
  {
   "cell_type": "code",
   "execution_count": 95,
   "id": "170bd3f5-82e4-4cca-b9ab-5dbb9bab0492",
   "metadata": {},
   "outputs": [],
   "source": [
    "data, extent = loadData('temporalCoherence.tif')"
   ]
  },
  {
   "cell_type": "code",
   "execution_count": 96,
   "id": "ff9dff2d-a790-4477-870f-2cd0adce5614",
   "metadata": {},
   "outputs": [
    {
     "data": {
      "text/plain": [
       "<matplotlib.image.AxesImage at 0x7fd01b1ef9d0>"
      ]
     },
     "execution_count": 96,
     "metadata": {},
     "output_type": "execute_result"
    },
    {
     "data": {
      "image/png": "[encoded data removed]",
      "text/plain": [
       "<Figure size 432x288 with 1 Axes>"
      ]
     },
     "metadata": {
      "needs_background": "light"
     },
     "output_type": "display_data"
    }
   ],
   "source": [
    "plt.imshow(data)"
   ]
  },
  {
   "cell_type": "code",
   "execution_count": 97,
   "id": "15562724-661c-485b-ab11-24a1c8d2126c",
   "metadata": {},
   "outputs": [],
   "source": [
    "cp temporalCoherence.tif /u/sar-r2/fwilliam/Calif/UAVSAR/Stacks/Haywrd_05502_01-S2/temporalCoherence.tif"
   ]
  },
  {
   "cell_type": "code",
   "execution_count": 98,
   "id": "dc46696c-29b3-4c35-8e60-438bc2db6cd5",
   "metadata": {},
   "outputs": [],
   "source": [
    "cp velocity.tif /u/sar-r2/fwilliam/Calif/UAVSAR/Stacks/Haywrd_05502_01-S2/velocity.tif"
   ]
  },
  {
   "cell_type": "code",
   "execution_count": null,
   "id": "ae314e41-da5d-46fa-b424-feca7bf9b320",
   "metadata": {},
   "outputs": [],
   "source": []
  }
 ],
 "metadata": {
  "kernelspec": {
   "display_name": "Python 3 (ipykernel)",
   "language": "python",
   "name": "python3"
  },
  "language_info": {
   "codemirror_mode": {
    "name": "ipython",
    "version": 3
   },
   "file_extension": ".py",
   "mimetype": "text/x-python",
   "name": "python",
   "nbconvert_exporter": "python",
   "pygments_lexer": "ipython3",
   "version": "3.8.10"
  }
 },
 "nbformat": 4,
 "nbformat_minor": 5
}
