{
 "cells": [
  {
   "cell_type": "markdown",
   "source": [
    "# UAVSAR Interferogram Processing"
   ],
   "metadata": {}
  },
  {
   "cell_type": "markdown",
   "source": [
    "**Author**: Forrest Williams - Jet Propulsion Laboratory\n",
    "\n",
    "This notebook provides a working example of end-to-end processing of UAVSAR interferograms through the ISCE application **stripmapApp.py**."
   ],
   "metadata": {}
  },
  {
   "cell_type": "markdown",
   "source": [
    "## Prep A: Initial setup of the notebook\n",
    "Below we set up the directory structure for this notebook exercise. In addition, we load the required modules into our python environment using the **`import`** command."
   ],
   "metadata": {}
  },
  {
   "cell_type": "code",
   "execution_count": null,
   "source": [
    "import glob\n",
    "import os\n",
    "import stat\n",
    "import sys\n",
    "from datetime import datetime\n",
    "import itertools\n",
    "\n",
    "## Specify DEM path\n",
    "dem_path = '/u/sar-r0/fielding/Calif/SF_Bay/topo/USGS/1_3asec'\n",
    "\n",
    "## Defining the home and data directories at the processing location\n",
    "tutorial_home_dir = os.path.abspath(os.getcwd())\n",
    "work_dir = os.path.abspath(os.getcwd())\n",
    "## Manually change work_dir if preferred. E.g.:\n",
    "#work_dir = '/u/sar-r2/fwilliam/Calif/UAVSAR/Stacks/Haywrd_05502_01-S2'\n",
    "## Manually specify remote login. E.g.:\n",
    "#user_remote=fwilliam@137.78.249.109\n",
    "print(\"Tutorial directory: \", tutorial_home_dir)\n",
    "print(\"Work directory: \", work_dir)\n",
    "\n",
    "## Enter working directory\n",
    "os.chdir(work_dir)"
   ],
   "outputs": [],
   "metadata": {}
  },
  {
   "cell_type": "markdown",
   "source": [
    "## Prep B: Download data\n",
    "First attempt to download data directly with the bash script."
   ],
   "metadata": {}
  },
  {
   "cell_type": "code",
   "execution_count": null,
   "source": [
    "!chmod u+x Haywrd_0550201.sh\n",
    "!./Haywrd_0550201.sh"
   ],
   "outputs": [],
   "metadata": {}
  },
  {
   "cell_type": "markdown",
   "source": [
    "If downloading fails with a `connection denied` error, it is an access issue associated with your server's firewall. For this case, modify `work_dir` in **Prep A** above to reflect the desired path you wish to push data to on your remote server. Then re-execute this cell on your local machine, and finally continue working through the rest of the notebook on your remote server."
   ],
   "metadata": {}
  },
  {
   "cell_type": "code",
   "execution_count": 14,
   "source": [
    "# Create the batch script for downloading the data\n",
    "with open('Haywrd_0550201.sh','r') as f:\n",
    "    lines = f.readlines()\n",
    "\n",
    "files = [x.split(' ')[1][:-1] for x in lines]\n",
    "names = [x.split('/')[-1] for x in files]\n",
    "\n",
    "# Check if any file failed to download\n",
    "downloaded_file = [os.path.exists(i) for i in names]\n",
    "if False in downloaded_file:\n",
    "    batch_lines = ['@ECHO OFF\\n'] + [f'CALL CURL {x} -o {y}\\n' for x,y in zip(files,names)]\n",
    "\n",
    "    with open('..\\\\Haywrd_0550201.bat', 'w+') as f:\n",
    "        f.writelines(batch_lines)\n",
    "\n",
    "    # Create the batch script for transferring the data\n",
    "    complete = glob.glob('..\\Hayw*')\n",
    "    remote_path = '{}:{}'.format(user_remote,work_dir)\n",
    "    transfer_lines = ['@ECHO OFF\\n'] + [f'CALL scp {os.path.basename(x)} {remote_path}\\n' for x in complete]\n",
    "    with open('..\\\\transfer.bat', 'w+') as f:\n",
    "        f.writelines(transfer_lines)"
   ],
   "outputs": [],
   "metadata": {}
  },
  {
   "cell_type": "markdown",
   "source": [
    "## Perform ISCE Processing"
   ],
   "metadata": {}
  },
  {
   "cell_type": "markdown",
   "source": [
    "### Create Run Files"
   ],
   "metadata": {}
  },
  {
   "cell_type": "code",
   "execution_count": null,
   "source": [
    "!ls"
   ],
   "outputs": [],
   "metadata": {}
  },
  {
   "cell_type": "code",
   "execution_count": 3,
   "source": [
    "!mkdir downloadHH"
   ],
   "outputs": [],
   "metadata": {}
  },
  {
   "cell_type": "code",
   "execution_count": 4,
   "source": [
    "!mv Haywar* downloadHH/"
   ],
   "outputs": [],
   "metadata": {}
  },
  {
   "cell_type": "code",
   "execution_count": 5,
   "source": [
    "!mv downloadHH/*.dop ."
   ],
   "outputs": [],
   "metadata": {}
  },
  {
   "cell_type": "code",
   "execution_count": null,
   "source": [
    "# !prepareUAVSAR_coregStack.py -h\n",
    "!prepareUAVSAR_coregStack.py -i downloadHH -o SLC -d Haywar_05502_01_BC.dop -s 2"
   ],
   "outputs": [],
   "metadata": {}
  },
  {
   "cell_type": "markdown",
   "source": [
    "Some directory setup needs to be done before we can run `stackStripMap.py`:"
   ],
   "metadata": {}
  },
  {
   "cell_type": "code",
   "execution_count": null,
   "source": [
    "!ls"
   ],
   "outputs": [],
   "metadata": {}
  },
  {
   "cell_type": "code",
   "execution_count": 13,
   "source": [
    "!mkdir merged"
   ],
   "outputs": [],
   "metadata": {}
  },
  {
   "cell_type": "code",
   "execution_count": null,
   "source": [
    "!cd merged"
   ],
   "outputs": [],
   "metadata": {}
  },
  {
   "cell_type": "code",
   "execution_count": 15,
   "source": [
    "!ln -s ../SLC"
   ],
   "outputs": [],
   "metadata": {}
  },
  {
   "cell_type": "code",
   "execution_count": null,
   "source": [
    "!cd .."
   ],
   "outputs": [],
   "metadata": {}
  },
  {
   "cell_type": "code",
   "execution_count": 21,
   "source": [
    "## Link DEM to working directory\n",
    "os.symlink(dem_path, 'DEM')"
   ],
   "outputs": [],
   "metadata": {}
  },
  {
   "cell_type": "code",
   "execution_count": null,
   "source": [
    "!stackStripMap.py -s SLC/ -d ./1_3asec/BayArea_USGS_13.dem.wgs84 -a 8 -r 2 -W interferogram --nofocus -S uavsar_stack -t 600 --filter_strength 0.2"
   ],
   "outputs": [],
   "metadata": {}
  },
  {
   "cell_type": "markdown",
   "source": [
    "It looks like 600 is not a large enough time delta to create a connected network, lets determine what the minimum time delta needed is:"
   ],
   "metadata": {}
  },
  {
   "cell_type": "code",
   "execution_count": null,
   "source": [
    "d = ['20090220', '20091119', '20100115', '20100301', '20100423', '20101110', '20110712', '20111103', '20120413', '20121102', '20140528', '20141112', '20151008', '20160324', '20170403', '20171020', '20180801', '20200910', '20201007', '20210601']\n",
    "dates = [datetime.strptime(x,'%Y%m%d') for x in d]\n",
    "dates.sort()\n",
    "difference = [x-y for x,y in zip(dates,[dates[0]]+dates[0:-1])]\n",
    "max(difference)"
   ],
   "outputs": [],
   "metadata": {}
  },
  {
   "cell_type": "code",
   "execution_count": null,
   "source": [
    "!stackStripMap.py -s SLC/ -d ./DEM/BayArea_USGS_13.dem.wgs84 -a 8 -r 2 -W interferogram --nofocus -S uavsar_stack -t 800 --filter_strength 0.2"
   ],
   "outputs": [],
   "metadata": {}
  },
  {
   "cell_type": "code",
   "execution_count": null,
   "source": [
    "!ls run_files"
   ],
   "outputs": [],
   "metadata": {}
  },
  {
   "cell_type": "code",
   "execution_count": null,
   "source": [
    "!run.py -h"
   ],
   "outputs": [],
   "metadata": {}
  },
  {
   "cell_type": "code",
   "execution_count": null,
   "source": [
    "!nproc"
   ],
   "outputs": [],
   "metadata": {}
  },
  {
   "cell_type": "markdown",
   "source": [
    "### Excecute Run Files\n",
    "\n",
    "For long-running scripts, it's better to run the commands within a shell with nohup specified instead of from inside the notebook because jupyter lab does not handle ssh disconnections well. Also, for **UAVSAR data only steps 1 and 8 need to be run** (coregister DEM and create interferograms). The cell below generates two .tsch that run each respectively and log the results. Copy the lines printed by this cell, then run them in the shell."
   ],
   "metadata": {}
  },
  {
   "cell_type": "code",
   "execution_count": null,
   "source": [
    "wd = os.getcwd()\n",
    "\n",
    "header = \"\"\"#! /bin/tcsh\n",
    "\n",
    "date\n",
    "#Start time\n",
    "#begin=`date +\"%s\"`\n",
    "\n",
    "# RUN\n",
    "\"\"\"\n",
    "\n",
    "master = f'nohup source {os.path.join(wd,\"run_files\",\"run_01_reference\")} > master.log'\n",
    "igrams = f'nohup source {os.path.join(wd,\"run_files\",\"run_08_igram\")} > igrams.log'\n",
    "\n",
    "footer = \"\"\"\n",
    "\n",
    "# Print time after running\n",
    "#echo Walltime : $(expr `date +\"%s\"` - $begin)          # Seconds\n",
    "date\n",
    "\"\"\"\n",
    "\n",
    "cmds = {'master':master,'igrams':igrams}\n",
    "for key in cmds:\n",
    "    name = f'run-{key}.tcsh' \n",
    "    with open(name, 'w') as f:\n",
    "        f.write(header)\n",
    "        f.write(cmds[key])\n",
    "        f.write(footer)\n",
    "    st = os.stat(name)\n",
    "    os.chmod(name, st.st_mode | stat.S_IEXEC)\n",
    "    print(f'./{name} ; python JPL_internship/emailme.py')"
   ],
   "outputs": [],
   "metadata": {}
  },
  {
   "cell_type": "markdown",
   "source": [
    "### Step 1 Log\n",
    "Took about 30 minutes to run"
   ],
   "metadata": {}
  },
  {
   "cell_type": "code",
   "execution_count": null,
   "source": [
    "!cat master.log"
   ],
   "outputs": [],
   "metadata": {}
  },
  {
   "cell_type": "markdown",
   "source": [
    "### Step 8 Log\n",
    "This step took 57 hours to complete (~1 hour per interferogram)"
   ],
   "metadata": {}
  },
  {
   "cell_type": "code",
   "execution_count": null,
   "source": [
    "n_pairs = 56\n",
    "with open('igrams.log','r') as f:\n",
    "    lines = f.readlines()\n",
    "\n",
    "n_completions = len([x for x in lines if '*** Normal Completion  ***' in x])\n",
    "\n",
    "if n_pairs == n_completions:\n",
    "    print('All interferograms completed successfully!')\n",
    "else:\n",
    "    \n",
    "    print(f'There was a problem with the run :( {n_completions} interferograms done.')"
   ],
   "outputs": [],
   "metadata": {}
  },
  {
   "cell_type": "code",
   "execution_count": null,
   "source": [
    "!cat igrams.log"
   ],
   "outputs": [],
   "metadata": {}
  }
 ],
 "metadata": {
  "kernelspec": {
   "display_name": "Python 3 (ipykernel)",
   "language": "python",
   "name": "python3"
  },
  "language_info": {
   "codemirror_mode": {
    "name": "ipython",
    "version": 3
   },
   "file_extension": ".py",
   "mimetype": "text/x-python",
   "name": "python",
   "nbconvert_exporter": "python",
   "pygments_lexer": "ipython3",
   "version": "3.8.10"
  }
 },
 "nbformat": 4,
 "nbformat_minor": 5
}