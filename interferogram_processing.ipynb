{
 "cells": [
  {
   "cell_type": "markdown",
   "id": "2914e0e6-c94f-4770-92ed-e3879aa2e054",
   "metadata": {},
   "source": [
    "## Setup"
   ]
  },
  {
   "cell_type": "code",
   "execution_count": 19,
   "id": "8f9b2e3d-c244-4aaa-82a0-d75c6a2174c1",
   "metadata": {},
   "outputs": [],
   "source": [
    "import glob\n",
    "import os"
   ]
  },
  {
   "cell_type": "code",
   "execution_count": null,
   "id": "c7b58ac4-a311-45d1-87f5-e24dd0ef1b01",
   "metadata": {},
   "outputs": [],
   "source": [
    "cd /u/sar-r2/fwilliam/Calif/UAVSAR/Stacks/Haywrd_05502_01-S1"
   ]
  },
  {
   "cell_type": "markdown",
   "id": "d9072f62-36fc-4cf9-8d3f-60f3778ad0e5",
   "metadata": {},
   "source": [
    "## Download UAVSAR SLC files\n",
    "Unfortunately, downloading directly to the jpl server results in in a `connected denied` error, so the files must first be downloaded to the local machine, then transferred to the JPL server via the secure copy program (`scp`)"
   ]
  },
  {
   "cell_type": "code",
   "execution_count": 14,
   "id": "a4885086-bae6-41f9-9284-054ba5f34f12",
   "metadata": {},
   "outputs": [],
   "source": [
    "# Create the batch script for downloading the data\n",
    "with open('Haywrd_0550201.sh','r') as f:\n",
    "    lines = f.readlines()\n",
    "\n",
    "files = [x.split(' ')[1][:-1] for x in lines]\n",
    "names = [x.split('/')[-1] for x in files]\n",
    "\n",
    "batch_lines = ['@ECHO OFF\\n'] + [f'CALL CURL {x} -o {y}\\n' for x,y in zip(files,names)]\n",
    "\n",
    "with open('..\\\\Haywrd_0550201.bat', 'w+') as f:\n",
    "    f.writelines(batch_lines)"
   ]
  },
  {
   "cell_type": "code",
   "execution_count": 27,
   "id": "2bd1bcd2-8e6c-4c7d-8ef2-4817c4767d9e",
   "metadata": {},
   "outputs": [],
   "source": [
    "# Create the batch script for transferring the data\n",
    "complete = glob.glob('..\\Hayw*')\n",
    "remote_path = 'fwilliam@137.78.249.109:/u/sar-r2/fwilliam/Calif/UAVSAR/Stacks/Haywrd_05502_01-S1'\n",
    "transfer_lines = ['@ECHO OFF\\n'] + [f'CALL scp {os.path.basename(x)} {remote_path}\\n' for x in complete]\n",
    "with open('..\\\\transfer.bat', 'w+') as f:\n",
    "    f.writelines(transfer_lines)"
   ]
  },
  {
   "cell_type": "code",
   "execution_count": null,
   "id": "debb2b00-7dcf-4c40-9acb-5c50c134d52e",
   "metadata": {},
   "outputs": [],
   "source": []
  }
 ],
 "metadata": {
  "kernelspec": {
   "display_name": "Python 3",
   "language": "python",
   "name": "python3"
  },
  "language_info": {
   "codemirror_mode": {
    "name": "ipython",
    "version": 3
   },
   "file_extension": ".py",
   "mimetype": "text/x-python",
   "name": "python",
   "nbconvert_exporter": "python",
   "pygments_lexer": "ipython3",
   "version": "3.7.7"
  }
 },
 "nbformat": 4,
 "nbformat_minor": 5
}
