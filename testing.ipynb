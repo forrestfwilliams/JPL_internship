{
 "cells": [
  {
   "cell_type": "code",
   "execution_count": null,
   "id": "403cd526-fe29-4af9-9ca7-64f051b66ae2",
   "metadata": {},
   "outputs": [],
   "source": [
    "import time"
   ]
  },
  {
   "cell_type": "code",
   "execution_count": null,
   "id": "439def68-258b-4408-be9a-aa3e95f85124",
   "metadata": {},
   "outputs": [],
   "source": [
    "# # %%capture stored_output\n",
    "# for i in range(0,300):\n",
    "#     time.sleep(1)\n",
    "#     print(i)"
   ]
  },
  {
   "cell_type": "code",
   "execution_count": null,
   "id": "50d62fba-9814-4ae2-806e-87a067420ff8",
   "metadata": {},
   "outputs": [],
   "source": [
    "# stored_output.show()"
   ]
  },
  {
   "cell_type": "code",
   "execution_count": null,
   "id": "4e9abaa4-d394-4ad1-b883-b35749e5b3bf",
   "metadata": {},
   "outputs": [],
   "source": [
    "# !python timing.py >> log_file.txt 2>&1"
   ]
  },
  {
   "cell_type": "code",
   "execution_count": null,
   "id": "009f0d1b-81a3-4695-a17c-19b76e2b736d",
   "metadata": {},
   "outputs": [],
   "source": [
    "!python timing.py |& tee -i log_file1.txt"
   ]
  },
  {
   "cell_type": "code",
   "execution_count": null,
   "id": "d7530504-3e4c-4477-8d7a-7ee5f5e98e84",
   "metadata": {},
   "outputs": [],
   "source": [
    "!python timing.py |& tee -i log_file2.txt"
   ]
  },
  {
   "cell_type": "code",
   "execution_count": null,
   "id": "f77d81bf-ba75-4c73-a46e-119416f2c8ec",
   "metadata": {},
   "outputs": [],
   "source": [
    "!python timing.py |& tee -i log_file3.txt"
   ]
  },
  {
   "cell_type": "code",
   "execution_count": null,
   "id": "0f14387c-4fc5-4b50-a261-5062884cb49b",
   "metadata": {},
   "outputs": [],
   "source": [
    "!python timing.py |& tee -i log_file4.txt"
   ]
  },
  {
   "cell_type": "code",
   "execution_count": 1,
   "id": "f2f521e9-fbf3-4efe-9e31-c271a97eb7b9",
   "metadata": {},
   "outputs": [
    {
     "name": "stdout",
     "output_type": "stream",
     "text": [
      "usage: smallbaselineApp.py [-h] [--dir WORKDIR] [-g] [-H] [-v] [--plot]\n",
      "                           [--start STEP] [--end STEP] [--dostep STEP]\n",
      "                           [customTemplateFile]\n",
      "\n",
      "Routine Time Series Analysis for Small Baseline InSAR Stack\n",
      "\n",
      "positional arguments:\n",
      "  customTemplateFile    custom template with option settings.\n",
      "                        ignored if the default smallbaselineApp.cfg is input.\n",
      "\n",
      "optional arguments:\n",
      "  -h, --help            show this help message and exit\n",
      "  --dir WORKDIR, --work-dir WORKDIR\n",
      "                        work directory, (default: ./).\n",
      "  -g                    generate default template (if it does not exist) and exit.\n",
      "  -H                    print the default template file and exit.\n",
      "  -v, --version         print software version and exit\n",
      "  --plot                plot results [only] without running smallbaselineApp.\n",
      "\n",
      "steps processing (start/end/dostep):\n",
      "  Command line options for steps processing with names are chosen from the following list:\n",
      "  \n",
      "  ['load_data', 'modify_network', 'reference_point', 'quick_overview', 'correct_unwrap_error']\n",
      "  ['invert_network', 'correct_LOD', 'correct_SET', 'correct_troposphere', 'deramp', 'correct_topography']\n",
      "  ['residual_RMS', 'reference_date', 'velocity', 'geocode', 'google_earth', 'hdfeos5']\n",
      "  \n",
      "  In order to use either --start or --dostep, it is necessary that a\n",
      "  previous run was done using one of the steps options to process at least\n",
      "  through the step immediately preceding the starting step of the current run.\n",
      "\n",
      "  --start STEP          start processing at the named step (default: load_data).\n",
      "  --end STEP, --stop STEP\n",
      "                        end processing at the named step (default: hdfeos5)\n",
      "  --dostep STEP         run processing at the named step only\n",
      "\n",
      "reference:\n",
      "  Yunjun, Z., H. Fattahi, and F. Amelung (2019), Small baseline InSAR time series analysis: \n",
      "  Unwrapping error correction and noise reduction, Computers & Geosciences, 133, 104331,\n",
      "  doi:10.1016/j.cageo.2019.104331.\n",
      "\n",
      "example:\n",
      "  smallbaselineApp.py                         #run with default template 'smallbaselineApp.cfg'\n",
      "  smallbaselineApp.py <custom_template>       #run with default and custom templates\n",
      "  smallbaselineApp.py -h / --help             #help\n",
      "  smallbaselineApp.py -H                      #print    default template options\n",
      "  smallbaselineApp.py -g                      #generate default template if it does not exist\n",
      "  smallbaselineApp.py -g <custom_template>    #generate/update default template based on custom template\n",
      "  smallbaselineApp.py --plot                  #plot results without run\n",
      "\n",
      "  # Run with --start/stop/dostep options\n",
      "  smallbaselineApp.py GalapagosSenDT128.template --dostep velocity  #run at step 'velocity' only\n",
      "  smallbaselineApp.py GalapagosSenDT128.template --end load_data    #end after step 'load_data'\n"
     ]
    }
   ],
   "source": [
    "!smallbaselineApp.py --help"
   ]
  },
  {
   "cell_type": "code",
   "execution_count": null,
   "id": "854c1695-2f93-45a4-8734-e85b38c47515",
   "metadata": {},
   "outputs": [],
   "source": []
  }
 ],
 "metadata": {
  "kernelspec": {
   "display_name": "Python 3 (ipykernel)",
   "language": "python",
   "name": "python3"
  },
  "language_info": {
   "codemirror_mode": {
    "name": "ipython",
    "version": 3
   },
   "file_extension": ".py",
   "mimetype": "text/x-python",
   "name": "python",
   "nbconvert_exporter": "python",
   "pygments_lexer": "ipython3",
   "version": "3.8.10"
  }
 },
 "nbformat": 4,
 "nbformat_minor": 5
}
