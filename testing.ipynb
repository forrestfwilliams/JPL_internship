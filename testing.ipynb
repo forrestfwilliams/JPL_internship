{
 "cells": [
  {
   "cell_type": "code",
   "execution_count": null,
   "id": "403cd526-fe29-4af9-9ca7-64f051b66ae2",
   "metadata": {},
   "outputs": [],
   "source": [
    "import time"
   ]
  },
  {
   "cell_type": "code",
   "execution_count": null,
   "id": "439def68-258b-4408-be9a-aa3e95f85124",
   "metadata": {},
   "outputs": [],
   "source": [
    "# # %%capture stored_output\n",
    "# for i in range(0,300):\n",
    "#     time.sleep(1)\n",
    "#     print(i)"
   ]
  },
  {
   "cell_type": "code",
   "execution_count": null,
   "id": "50d62fba-9814-4ae2-806e-87a067420ff8",
   "metadata": {},
   "outputs": [],
   "source": [
    "# stored_output.show()"
   ]
  },
  {
   "cell_type": "code",
   "execution_count": null,
   "id": "4e9abaa4-d394-4ad1-b883-b35749e5b3bf",
   "metadata": {},
   "outputs": [],
   "source": [
    "# !python timing.py >> log_file.txt 2>&1"
   ]
  },
  {
   "cell_type": "code",
   "execution_count": null,
   "id": "009f0d1b-81a3-4695-a17c-19b76e2b736d",
   "metadata": {},
   "outputs": [],
   "source": [
    "!python timing.py |& tee -i log_file1.txt"
   ]
  },
  {
   "cell_type": "code",
   "execution_count": null,
   "id": "d7530504-3e4c-4477-8d7a-7ee5f5e98e84",
   "metadata": {},
   "outputs": [],
   "source": [
    "!python timing.py |& tee -i log_file2.txt"
   ]
  },
  {
   "cell_type": "code",
   "execution_count": null,
   "id": "f77d81bf-ba75-4c73-a46e-119416f2c8ec",
   "metadata": {},
   "outputs": [],
   "source": [
    "!python timing.py |& tee -i log_file3.txt"
   ]
  },
  {
   "cell_type": "code",
   "execution_count": null,
   "id": "0f14387c-4fc5-4b50-a261-5062884cb49b",
   "metadata": {},
   "outputs": [],
   "source": [
    "!python timing.py |& tee -i log_file4.txt"
   ]
  },
  {
   "cell_type": "code",
   "execution_count": null,
   "id": "f2f521e9-fbf3-4efe-9e31-c271a97eb7b9",
   "metadata": {},
   "outputs": [],
   "source": []
  }
 ],
 "metadata": {
  "kernelspec": {
   "display_name": "Python 3",
   "language": "python",
   "name": "python3"
  },
  "language_info": {
   "codemirror_mode": {
    "name": "ipython",
    "version": 3
   },
   "file_extension": ".py",
   "mimetype": "text/x-python",
   "name": "python",
   "nbconvert_exporter": "python",
   "pygments_lexer": "ipython3",
   "version": "3.6.13"
  }
 },
 "nbformat": 4,
 "nbformat_minor": 5
}
