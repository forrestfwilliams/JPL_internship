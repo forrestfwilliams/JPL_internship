{
 "cells": [
  {
   "cell_type": "code",
   "execution_count": 24,
   "id": "abf859ee-ec25-42ba-a5d8-41d1b8f6dea8",
   "metadata": {},
   "outputs": [],
   "source": [
    "%matplotlib inline\n",
    "import matplotlib.pyplot as plt\n",
    "\n",
    "from mintpy.utils import readfile\n",
    "from mintpy.objects import timeseries\n",
    "import pandas as pd\n",
    "import numpy as np"
   ]
  },
  {
   "cell_type": "code",
   "execution_count": 6,
   "id": "eca1ebcf-6270-40c2-a684-3da9827c8a45",
   "metadata": {},
   "outputs": [
    {
     "name": "stdout",
     "output_type": "stream",
     "text": [
      "/u/sar-r2/fwilliam/Calif/UAVSAR/Stacks/Haywrd_05502_01-S2/mintpy\n"
     ]
    }
   ],
   "source": [
    "cd /u/sar-r2/fwilliam/Calif/UAVSAR/Stacks/Haywrd_05502_01-S2/mintpy"
   ]
  },
  {
   "cell_type": "code",
   "execution_count": 7,
   "id": "3bf2cd5e-b796-46d4-a66a-895c3433b207",
   "metadata": {},
   "outputs": [
    {
     "name": "stdout",
     "output_type": "stream",
     "text": [
      "avgPhaseVelocity.h5      numTriNonzeroIntAmbiguity.h5\n",
      "avgSpatialCoh.h5         \u001b[0m\u001b[01;35mnumTriNonzeroIntAmbiguity.png\u001b[0m\n",
      "bperpHistory.pdf         \u001b[01;34mpic\u001b[0m/\n",
      "coherenceHistory.pdf     smallbaselineApp.cfg\n",
      "coherenceMatrix.pdf      \u001b[01;35mtcoherence_0550201_02.png\u001b[0m\n",
      "coherenceSpatialAvg.txt  temporalCoherence.h5\n",
      "\u001b[01;34mgeo\u001b[0m/                     timeseries.h5\n",
      "\u001b[01;35mifg_0550201_02.png\u001b[0m       timeseries_ramp.h5\n",
      "\u001b[01;34minputs\u001b[0m/                  \u001b[01;35mvelocity_0550201_02.png\u001b[0m\n",
      "invert.log               \u001b[01;35mvelocity_dem.png\u001b[0m\n",
      "maskConnComp.h5          velocity.h5\n",
      "maskTempCoh.h5           velocity.log\n",
      "network.pdf              waterMask.h5\n",
      "numInvIfgram.h5\n"
     ]
    }
   ],
   "source": [
    "ls"
   ]
  },
  {
   "cell_type": "code",
   "execution_count": 21,
   "id": "01d3075b-2f7e-42d2-8915-381450ea94d3",
   "metadata": {},
   "outputs": [],
   "source": [
    "ts = timeseries('timeseries_ramp.h5')\n",
    "# data = ts.read()\n",
    "dates = pd.to_datetime(ts.get_date_list())"
   ]
  },
  {
   "cell_type": "code",
   "execution_count": 22,
   "id": "bdae24c8-9172-438f-b52f-4abaf04344c2",
   "metadata": {},
   "outputs": [],
   "source": [
    "means = pd.Series(data.mean(axis=(1,2)))"
   ]
  },
  {
   "cell_type": "code",
   "execution_count": 29,
   "id": "bfdafa87-9956-4752-aa50-af72e2ee1d44",
   "metadata": {},
   "outputs": [],
   "source": [
    "df = pd.DataFrame({'date':dates,'avg':means})"
   ]
  },
  {
   "cell_type": "code",
   "execution_count": 35,
   "id": "1648edd5-350d-457c-8f49-037c7ab2541f",
   "metadata": {},
   "outputs": [
    {
     "data": {
      "image/png": "[encoded data removed]",
      "text/plain": [
       "<Figure size 432x288 with 1 Axes>"
      ]
     },
     "metadata": {
      "needs_background": "light"
     },
     "output_type": "display_data"
    }
   ],
   "source": [
    "plt.scatter(df.date,df.avg)\n",
    "plt.xlabel('Date')\n",
    "plt.ylabel('Avg Timeseries Value')\n",
    "plt.savefig('mean_timeseries.png')"
   ]
  },
  {
   "cell_type": "code",
   "execution_count": null,
   "id": "3b636f01-1b7f-4d7e-a49f-13352d56e086",
   "metadata": {},
   "outputs": [],
   "source": []
  }
 ],
 "metadata": {
  "kernelspec": {
   "display_name": "Python 3",
   "language": "python",
   "name": "python3"
  },
  "language_info": {
   "codemirror_mode": {
    "name": "ipython",
    "version": 3
   },
   "file_extension": ".py",
   "mimetype": "text/x-python",
   "name": "python",
   "nbconvert_exporter": "python",
   "pygments_lexer": "ipython3",
   "version": "3.6.13"
  }
 },
 "nbformat": 4,
 "nbformat_minor": 5
}
