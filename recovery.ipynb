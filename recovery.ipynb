{
 "cells": [
  {
   "cell_type": "code",
   "execution_count": 23,
   "id": "5ef60c33-b0af-4b60-95b5-14084e01f9e8",
   "metadata": {},
   "outputs": [],
   "source": [
    "import os\n",
    "import glob\n",
    "import shutil"
   ]
  },
  {
   "cell_type": "code",
   "execution_count": 2,
   "id": "8de6a367-550d-4df6-8784-39b56360428e",
   "metadata": {},
   "outputs": [
    {
     "name": "stdout",
     "output_type": "stream",
     "text": [
      "/u/sar-r2/fwilliam/Calif/UAVSAR/Stacks/Haywrd_05502_01-S1\n"
     ]
    }
   ],
   "source": [
    "cd /u/sar-r2/fwilliam/Calif/UAVSAR/Stacks/Haywrd_05502_01-S1"
   ]
  },
  {
   "cell_type": "code",
   "execution_count": 24,
   "id": "41f56bc4-a197-401f-aeb6-7296f3a77fb2",
   "metadata": {},
   "outputs": [],
   "source": [
    "ann = glob.glob('SLC/*/*ann')\n",
    "ann.sort()\n",
    "slc = glob.glob('SLC/*/*slc')\n",
    "slc.sort()\n",
    "\n",
    "slc_orig = [f'downloadHH/{os.path.basename(x[:-4])}_s1_1x1.slc' for x in ann]\n",
    "ann_orig = [f'downloadHH/{os.path.basename(x)}' for x in ann]\n",
    "\n",
    "slc_dict = dict(zip(slc,slc_orig))\n",
    "ann_dict = dict(zip(ann,ann_orig))"
   ]
  },
  {
   "cell_type": "code",
   "execution_count": 25,
   "id": "f05010fe-a6cd-4994-9e42-43b57aab1ccb",
   "metadata": {},
   "outputs": [
    {
     "data": {
      "text/plain": [
       "{'SLC/20090220/20090220.slc': 'downloadHH/Haywar_05502_09007_002_090220_L090HH_01_BC_s1_1x1.slc',\n",
       " 'SLC/20091119/20091119.slc': 'downloadHH/Haywar_05502_09092_006_091119_L090HH_01_BC_s1_1x1.slc',\n",
       " 'SLC/20100115/20100115.slc': 'downloadHH/Haywar_05502_10008_001_100115_L090HH_01_BC_s1_1x1.slc',\n",
       " 'SLC/20100301/20100301.slc': 'downloadHH/Haywar_05502_10024_005_100301_L090HH_01_BC_s1_1x1.slc',\n",
       " 'SLC/20100423/20100423.slc': 'downloadHH/Haywar_05502_10031_004_100423_L090HH_01_BC_s1_1x1.slc',\n",
       " 'SLC/20101110/20101110.slc': 'downloadHH/Haywar_05502_10080_003_101110_L090HH_01_BC_s1_1x1.slc',\n",
       " 'SLC/20110712/20110712.slc': 'downloadHH/Haywar_05502_11048_010_110712_L090HH_01_BC_s1_1x1.slc',\n",
       " 'SLC/20111103/20111103.slc': 'downloadHH/Haywar_05502_11071_004_111103_L090HH_01_BC_s1_1x1.slc',\n",
       " 'SLC/20120413/20120413.slc': 'downloadHH/Haywar_05502_12015_002_120413_L090HH_01_BC_s1_1x1.slc',\n",
       " 'SLC/20121102/20121102.slc': 'downloadHH/Haywar_05502_12126_009_121102_L090HH_01_BC_s1_1x1.slc',\n",
       " 'SLC/20140528/20140528.slc': 'downloadHH/Haywar_05502_14065_007_140528_L090HH_01_BC_s1_1x1.slc',\n",
       " 'SLC/20141112/20141112.slc': 'downloadHH/Haywar_05502_14165_005_141112_L090HH_01_BC_s1_1x1.slc',\n",
       " 'SLC/20151008/20151008.slc': 'downloadHH/Haywar_05502_15150_004_151008_L090HH_01_BC_s1_1x1.slc',\n",
       " 'SLC/20160324/20160324.slc': 'downloadHH/Haywar_05502_16032_006_160324_L090HH_01_BC_s1_1x1.slc',\n",
       " 'SLC/20170403/20170403.slc': 'downloadHH/Haywar_05502_17044_010_170403_L090HH_01_BC_s1_1x1.slc',\n",
       " 'SLC/20171020/20171020.slc': 'downloadHH/Haywar_05502_17114_008_171020_L090HH_01_BC_s1_1x1.slc',\n",
       " 'SLC/20180801/20180801.slc': 'downloadHH/Haywar_05502_18039_006_180801_L090HH_01_BC_s1_1x1.slc',\n",
       " 'SLC/20200910/20200910.slc': 'downloadHH/Haywar_05502_20024_029_200910_L090HH_01_BC_s1_1x1.slc',\n",
       " 'SLC/20201007/20201007.slc': 'downloadHH/Haywar_05502_20028_005_201007_L090HH_01_BC_s1_1x1.slc'}"
      ]
     },
     "execution_count": 25,
     "metadata": {},
     "output_type": "execute_result"
    }
   ],
   "source": [
    "slc_dict"
   ]
  },
  {
   "cell_type": "code",
   "execution_count": 26,
   "id": "045cd75e-3dce-4617-9506-7f53cf3a5e76",
   "metadata": {},
   "outputs": [
    {
     "data": {
      "text/plain": [
       "{'SLC/20090220/Haywar_05502_09007_002_090220_L090HH_01_BC.ann': 'downloadHH/Haywar_05502_09007_002_090220_L090HH_01_BC.ann',\n",
       " 'SLC/20091119/Haywar_05502_09092_006_091119_L090HH_01_BC.ann': 'downloadHH/Haywar_05502_09092_006_091119_L090HH_01_BC.ann',\n",
       " 'SLC/20100115/Haywar_05502_10008_001_100115_L090HH_01_BC.ann': 'downloadHH/Haywar_05502_10008_001_100115_L090HH_01_BC.ann',\n",
       " 'SLC/20100301/Haywar_05502_10024_005_100301_L090HH_01_BC.ann': 'downloadHH/Haywar_05502_10024_005_100301_L090HH_01_BC.ann',\n",
       " 'SLC/20100423/Haywar_05502_10031_004_100423_L090HH_01_BC.ann': 'downloadHH/Haywar_05502_10031_004_100423_L090HH_01_BC.ann',\n",
       " 'SLC/20101110/Haywar_05502_10080_003_101110_L090HH_01_BC.ann': 'downloadHH/Haywar_05502_10080_003_101110_L090HH_01_BC.ann',\n",
       " 'SLC/20110712/Haywar_05502_11048_010_110712_L090HH_01_BC.ann': 'downloadHH/Haywar_05502_11048_010_110712_L090HH_01_BC.ann',\n",
       " 'SLC/20111103/Haywar_05502_11071_004_111103_L090HH_01_BC.ann': 'downloadHH/Haywar_05502_11071_004_111103_L090HH_01_BC.ann',\n",
       " 'SLC/20120413/Haywar_05502_12015_002_120413_L090HH_01_BC.ann': 'downloadHH/Haywar_05502_12015_002_120413_L090HH_01_BC.ann',\n",
       " 'SLC/20121102/Haywar_05502_12126_009_121102_L090HH_01_BC.ann': 'downloadHH/Haywar_05502_12126_009_121102_L090HH_01_BC.ann',\n",
       " 'SLC/20140528/Haywar_05502_14065_007_140528_L090HH_01_BC.ann': 'downloadHH/Haywar_05502_14065_007_140528_L090HH_01_BC.ann',\n",
       " 'SLC/20141112/Haywar_05502_14165_005_141112_L090HH_01_BC.ann': 'downloadHH/Haywar_05502_14165_005_141112_L090HH_01_BC.ann',\n",
       " 'SLC/20151008/Haywar_05502_15150_004_151008_L090HH_01_BC.ann': 'downloadHH/Haywar_05502_15150_004_151008_L090HH_01_BC.ann',\n",
       " 'SLC/20160324/Haywar_05502_16032_006_160324_L090HH_01_BC.ann': 'downloadHH/Haywar_05502_16032_006_160324_L090HH_01_BC.ann',\n",
       " 'SLC/20170403/Haywar_05502_17044_010_170403_L090HH_01_BC.ann': 'downloadHH/Haywar_05502_17044_010_170403_L090HH_01_BC.ann',\n",
       " 'SLC/20171020/Haywar_05502_17114_008_171020_L090HH_01_BC.ann': 'downloadHH/Haywar_05502_17114_008_171020_L090HH_01_BC.ann',\n",
       " 'SLC/20180801/Haywar_05502_18039_006_180801_L090HH_01_BC.ann': 'downloadHH/Haywar_05502_18039_006_180801_L090HH_01_BC.ann',\n",
       " 'SLC/20200910/Haywar_05502_20024_029_200910_L090HH_01_BC.ann': 'downloadHH/Haywar_05502_20024_029_200910_L090HH_01_BC.ann',\n",
       " 'SLC/20201007/Haywar_05502_20028_005_201007_L090HH_01_BC.ann': 'downloadHH/Haywar_05502_20028_005_201007_L090HH_01_BC.ann'}"
      ]
     },
     "execution_count": 26,
     "metadata": {},
     "output_type": "execute_result"
    }
   ],
   "source": [
    "ann_dict"
   ]
  },
  {
   "cell_type": "code",
   "execution_count": 27,
   "id": "2d9ec1d9-841e-44a5-b527-6e1f218a1168",
   "metadata": {},
   "outputs": [
    {
     "data": {
      "text/plain": [
       "['downloadHH/Haywar_05502_09007_002_090220_L090HH_01_BC_s1_1x1.slc',\n",
       " 'downloadHH/Haywar_05502_09092_006_091119_L090HH_01_BC_s1_1x1.slc',\n",
       " 'downloadHH/Haywar_05502_10008_001_100115_L090HH_01_BC_s1_1x1.slc',\n",
       " 'downloadHH/Haywar_05502_10024_005_100301_L090HH_01_BC_s1_1x1.slc',\n",
       " 'downloadHH/Haywar_05502_10031_004_100423_L090HH_01_BC_s1_1x1.slc',\n",
       " 'downloadHH/Haywar_05502_10080_003_101110_L090HH_01_BC_s1_1x1.slc',\n",
       " 'downloadHH/Haywar_05502_11048_010_110712_L090HH_01_BC_s1_1x1.slc',\n",
       " 'downloadHH/Haywar_05502_11071_004_111103_L090HH_01_BC_s1_1x1.slc',\n",
       " 'downloadHH/Haywar_05502_12015_002_120413_L090HH_01_BC_s1_1x1.slc',\n",
       " 'downloadHH/Haywar_05502_12126_009_121102_L090HH_01_BC_s1_1x1.slc',\n",
       " 'downloadHH/Haywar_05502_14065_007_140528_L090HH_01_BC_s1_1x1.slc',\n",
       " 'downloadHH/Haywar_05502_14165_005_141112_L090HH_01_BC_s1_1x1.slc',\n",
       " 'downloadHH/Haywar_05502_15150_004_151008_L090HH_01_BC_s1_1x1.slc',\n",
       " 'downloadHH/Haywar_05502_16032_006_160324_L090HH_01_BC_s1_1x1.slc',\n",
       " 'downloadHH/Haywar_05502_17044_010_170403_L090HH_01_BC_s1_1x1.slc',\n",
       " 'downloadHH/Haywar_05502_17114_008_171020_L090HH_01_BC_s1_1x1.slc',\n",
       " 'downloadHH/Haywar_05502_18039_006_180801_L090HH_01_BC_s1_1x1.slc',\n",
       " 'downloadHH/Haywar_05502_20024_029_200910_L090HH_01_BC_s1_1x1.slc',\n",
       " 'downloadHH/Haywar_05502_20028_005_201007_L090HH_01_BC_s1_1x1.slc']"
      ]
     },
     "execution_count": 27,
     "metadata": {},
     "output_type": "execute_result"
    }
   ],
   "source": [
    "[shutil.copy(x, slc_dict[x]) for x in slc_dict]"
   ]
  },
  {
   "cell_type": "code",
   "execution_count": 28,
   "id": "d31aa83f-8783-4f1f-9c47-4b910140d019",
   "metadata": {},
   "outputs": [
    {
     "data": {
      "text/plain": [
       "['downloadHH/Haywar_05502_09007_002_090220_L090HH_01_BC.ann',\n",
       " 'downloadHH/Haywar_05502_09092_006_091119_L090HH_01_BC.ann',\n",
       " 'downloadHH/Haywar_05502_10008_001_100115_L090HH_01_BC.ann',\n",
       " 'downloadHH/Haywar_05502_10024_005_100301_L090HH_01_BC.ann',\n",
       " 'downloadHH/Haywar_05502_10031_004_100423_L090HH_01_BC.ann',\n",
       " 'downloadHH/Haywar_05502_10080_003_101110_L090HH_01_BC.ann',\n",
       " 'downloadHH/Haywar_05502_11048_010_110712_L090HH_01_BC.ann',\n",
       " 'downloadHH/Haywar_05502_11071_004_111103_L090HH_01_BC.ann',\n",
       " 'downloadHH/Haywar_05502_12015_002_120413_L090HH_01_BC.ann',\n",
       " 'downloadHH/Haywar_05502_12126_009_121102_L090HH_01_BC.ann',\n",
       " 'downloadHH/Haywar_05502_14065_007_140528_L090HH_01_BC.ann',\n",
       " 'downloadHH/Haywar_05502_14165_005_141112_L090HH_01_BC.ann',\n",
       " 'downloadHH/Haywar_05502_15150_004_151008_L090HH_01_BC.ann',\n",
       " 'downloadHH/Haywar_05502_16032_006_160324_L090HH_01_BC.ann',\n",
       " 'downloadHH/Haywar_05502_17044_010_170403_L090HH_01_BC.ann',\n",
       " 'downloadHH/Haywar_05502_17114_008_171020_L090HH_01_BC.ann',\n",
       " 'downloadHH/Haywar_05502_18039_006_180801_L090HH_01_BC.ann',\n",
       " 'downloadHH/Haywar_05502_20024_029_200910_L090HH_01_BC.ann',\n",
       " 'downloadHH/Haywar_05502_20028_005_201007_L090HH_01_BC.ann']"
      ]
     },
     "execution_count": 28,
     "metadata": {},
     "output_type": "execute_result"
    }
   ],
   "source": [
    "[shutil.copy(x, ann_dict[x]) for x in ann_dict]"
   ]
  },
  {
   "cell_type": "code",
   "execution_count": 32,
   "id": "07ff2266-81b6-4efe-845c-71da091e3b4a",
   "metadata": {},
   "outputs": [
    {
     "data": {
      "text/plain": [
       "'downloadHH/Haywar_05502_01_BC.dop'"
      ]
     },
     "execution_count": 32,
     "metadata": {},
     "output_type": "execute_result"
    }
   ],
   "source": [
    "shutil.copy('Haywar_05502_01_BC.dop', 'downloadHH/Haywar_05502_01_BC.dop')"
   ]
  },
  {
   "cell_type": "code",
   "execution_count": 30,
   "id": "39eb0c53-e57f-4ab9-8e82-a15f73ef50dc",
   "metadata": {},
   "outputs": [
    {
     "name": "stdout",
     "output_type": "stream",
     "text": [
      "\u001b[0m\u001b[01;34mbaselines\u001b[0m/       Haywar_05502_01_BC.dop               \u001b[01;34mmerged\u001b[0m/\n",
      "\u001b[01;34mconfigs\u001b[0m/         isce.log                             \u001b[01;34moffsets\u001b[0m/\n",
      "\u001b[01;34mdem\u001b[0m/             \u001b[01;34mJPL_internship\u001b[0m/                      \u001b[01;34mrun_files\u001b[0m/\n",
      "dop_eric.txt     log_run_01_reference.txt             sim.log\n",
      "\u001b[01;34mdownloadHH\u001b[0m/      log_run_02_focus_split.txt           \u001b[01;34mSLC\u001b[0m/\n",
      "\u001b[01;34mgeom_reference\u001b[0m/  log_run_03_geo2rdr_coarseResamp.txt\n"
     ]
    }
   ],
   "source": [
    "ls"
   ]
  },
  {
   "cell_type": "code",
   "execution_count": 33,
   "id": "f92bee11-eb56-490c-8019-5b237390cfab",
   "metadata": {},
   "outputs": [
    {
     "name": "stdout",
     "output_type": "stream",
     "text": [
      "Copyright (c) 1990-2008 Info-ZIP - Type 'zip \"-L\"' for software license.\n",
      "Zip 3.0 (July 5th 2008). Usage:\n",
      "zip [-options] [-b path] [-t mmddyyyy] [-n suffixes] [zipfile list] [-xi list]\n",
      "  The default action is to add or replace zipfile entries from list, which\n",
      "  can include the special name - to compress standard input.\n",
      "  If zipfile and list are omitted, zip compresses stdin to stdout.\n",
      "  -f   freshen: only changed files  -u   update: only changed or new files\n",
      "  -d   delete entries in zipfile    -m   move into zipfile (delete OS files)\n",
      "  -r   recurse into directories     -j   junk (don't record) directory names\n",
      "  -0   store only                   -l   convert LF to CR LF (-ll CR LF to LF)\n",
      "  -1   compress faster              -9   compress better\n",
      "  -q   quiet operation              -v   verbose operation/print version info\n",
      "  -c   add one-line comments        -z   add zipfile comment\n",
      "  -@   read names from stdin        -o   make zipfile as old as latest entry\n",
      "  -x   exclude the following names  -i   include only the following names\n",
      "  -F   fix zipfile (-FF try harder) -D   do not add directory entries\n",
      "  -A   adjust self-extracting exe   -J   junk zipfile prefix (unzipsfx)\n",
      "  -T   test zipfile integrity       -X   eXclude eXtra file attributes\n",
      "  -y   store symbolic links as the link instead of the referenced file\n",
      "  -e   encrypt                      -n   don't compress these suffixes\n",
      "  -h2  show more help\n",
      "  \n"
     ]
    }
   ],
   "source": [
    "! zip -h"
   ]
  },
  {
   "cell_type": "code",
   "execution_count": null,
   "id": "c46e31ff-6d2c-4d18-8e9c-f9c6de1b8af8",
   "metadata": {},
   "outputs": [],
   "source": [
    "!zip -r raw_data.zip downloadHH/"
   ]
  }
 ],
 "metadata": {
  "kernelspec": {
   "display_name": "Python 3",
   "language": "python",
   "name": "python3"
  },
  "language_info": {
   "codemirror_mode": {
    "name": "ipython",
    "version": 3
   },
   "file_extension": ".py",
   "mimetype": "text/x-python",
   "name": "python",
   "nbconvert_exporter": "python",
   "pygments_lexer": "ipython3",
   "version": "3.6.13"
  }
 },
 "nbformat": 4,
 "nbformat_minor": 5
}
