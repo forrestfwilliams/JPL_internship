{
 "cells": [
  {
   "cell_type": "markdown",
   "id": "bb327b9c-8e23-448b-95a9-d7efc09c4b3c",
   "metadata": {},
   "source": [
    "# Miscellaneous Useful Code"
   ]
  },
  {
   "cell_type": "markdown",
   "id": "2a1961e2-41ed-43cb-84ab-464dc44bf597",
   "metadata": {},
   "source": [
    "## Setup Jupyter Lab instance on sar.jpl.nasa.gov"
   ]
  },
  {
   "cell_type": "code",
   "execution_count": null,
   "id": "7d000b71-66ff-4c2c-87b5-d97ba5dfa341",
   "metadata": {},
   "outputs": [],
   "source": [
    "%%sh\n",
    "\n",
    "# On local machine\n",
    "nslookup sar.jpl.nasa.gov\n",
    "ssh this.ip.address\n",
    "\n",
    "# On sar sever\n",
    "cd directory\n",
    "jupyter lab --no-browser --port=2515\n",
    "\n",
    "# On local machine\n",
    "ssh -CNL localhost:2515:localhost:2515 fwilliam@137.78.249.109\n",
    "\n",
    "# finally, in browser navigate to https:localhost:2515"
   ]
  }
 ],
 "metadata": {
  "kernelspec": {
   "display_name": "Python 3 (ipykernel)",
   "language": "python",
   "name": "python3"
  },
  "language_info": {
   "codemirror_mode": {
    "name": "ipython",
    "version": 3
   },
   "file_extension": ".py",
   "mimetype": "text/x-python",
   "name": "python",
   "nbconvert_exporter": "python",
   "pygments_lexer": "ipython3",
   "version": "3.8.10"
  }
 },
 "nbformat": 4,
 "nbformat_minor": 5
}
